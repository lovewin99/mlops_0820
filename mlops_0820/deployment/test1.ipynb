{
 "cells": [
  {
   "cell_type": "code",
   "execution_count": 5,
   "id": "f99126dc",
   "metadata": {},
   "outputs": [
    {
     "name": "stdout",
     "output_type": "stream",
     "text": [
      "hello\n"
     ]
    }
   ],
   "source": [
    "print(\"hello\")"
   ]
  },
  {
   "cell_type": "code",
   "execution_count": 6,
   "id": "6f2e9432",
   "metadata": {},
   "outputs": [
    {
     "name": "stdout",
     "output_type": "stream",
     "text": [
      "world\n"
     ]
    }
   ],
   "source": [
    "dbutils.widgets.text(\"hello\", \"world\")\n",
    "print(dbutils.widgets.get(\"hello\"))"
   ]
  },
  {
   "cell_type": "code",
   "execution_count": 7,
   "id": "fc9998d8",
   "metadata": {},
   "outputs": [
    {
     "data": {
      "text/plain": [
       "[FileInfo(path='/databricks-datasets/COVID', name='COVID', size=0, modificationTime=0),\n",
       " FileInfo(path='/databricks-datasets/README.md', name='README.md', size=976, modificationTime=1532501692000),\n",
       " FileInfo(path='/databricks-datasets/Rdatasets', name='Rdatasets', size=0, modificationTime=0),\n",
       " FileInfo(path='/databricks-datasets/SPARK_README.md', name='SPARK_README.md', size=3359, modificationTime=1522957285000),\n",
       " FileInfo(path='/databricks-datasets/adult', name='adult', size=0, modificationTime=0),\n",
       " FileInfo(path='/databricks-datasets/airlines', name='airlines', size=0, modificationTime=0),\n",
       " FileInfo(path='/databricks-datasets/amazon', name='amazon', size=0, modificationTime=0),\n",
       " FileInfo(path='/databricks-datasets/asa', name='asa', size=0, modificationTime=0),\n",
       " FileInfo(path='/databricks-datasets/atlas_higgs', name='atlas_higgs', size=0, modificationTime=0),\n",
       " FileInfo(path='/databricks-datasets/bikeSharing', name='bikeSharing', size=0, modificationTime=0),\n",
       " FileInfo(path='/databricks-datasets/cctvVideos', name='cctvVideos', size=0, modificationTime=0),\n",
       " FileInfo(path='/databricks-datasets/credit-card-fraud', name='credit-card-fraud', size=0, modificationTime=0),\n",
       " FileInfo(path='/databricks-datasets/cs100', name='cs100', size=0, modificationTime=0),\n",
       " FileInfo(path='/databricks-datasets/cs110x', name='cs110x', size=0, modificationTime=0),\n",
       " FileInfo(path='/databricks-datasets/cs190', name='cs190', size=0, modificationTime=0),\n",
       " FileInfo(path='/databricks-datasets/data.gov', name='data.gov', size=0, modificationTime=0),\n",
       " FileInfo(path='/databricks-datasets/definitive-guide', name='definitive-guide', size=0, modificationTime=0),\n",
       " FileInfo(path='/databricks-datasets/delta-sharing', name='delta-sharing', size=0, modificationTime=0),\n",
       " FileInfo(path='/databricks-datasets/flights', name='flights', size=0, modificationTime=0),\n",
       " FileInfo(path='/databricks-datasets/flower_photos', name='flower_photos', size=0, modificationTime=0),\n",
       " FileInfo(path='/databricks-datasets/flowers', name='flowers', size=0, modificationTime=0),\n",
       " FileInfo(path='/databricks-datasets/genomics', name='genomics', size=0, modificationTime=0),\n",
       " FileInfo(path='/databricks-datasets/hail', name='hail', size=0, modificationTime=0),\n",
       " FileInfo(path='/databricks-datasets/identifying-campaign-effectiveness', name='identifying-campaign-effectiveness', size=0, modificationTime=0),\n",
       " FileInfo(path='/databricks-datasets/iot', name='iot', size=0, modificationTime=0),\n",
       " FileInfo(path='/databricks-datasets/iot-stream', name='iot-stream', size=0, modificationTime=0),\n",
       " FileInfo(path='/databricks-datasets/learning-spark', name='learning-spark', size=0, modificationTime=0),\n",
       " FileInfo(path='/databricks-datasets/learning-spark-v2', name='learning-spark-v2', size=0, modificationTime=0),\n",
       " FileInfo(path='/databricks-datasets/lending-club-loan-stats', name='lending-club-loan-stats', size=0, modificationTime=0),\n",
       " FileInfo(path='/databricks-datasets/med-images', name='med-images', size=0, modificationTime=0),\n",
       " FileInfo(path='/databricks-datasets/media', name='media', size=0, modificationTime=0),\n",
       " FileInfo(path='/databricks-datasets/mnist-digits', name='mnist-digits', size=0, modificationTime=0),\n",
       " FileInfo(path='/databricks-datasets/news20.binary', name='news20.binary', size=0, modificationTime=0),\n",
       " FileInfo(path='/databricks-datasets/nyctaxi', name='nyctaxi', size=0, modificationTime=0),\n",
       " FileInfo(path='/databricks-datasets/nyctaxi-with-zipcodes', name='nyctaxi-with-zipcodes', size=0, modificationTime=0),\n",
       " FileInfo(path='/databricks-datasets/online_retail', name='online_retail', size=0, modificationTime=0),\n",
       " FileInfo(path='/databricks-datasets/overlap-join', name='overlap-join', size=0, modificationTime=0),\n",
       " FileInfo(path='/databricks-datasets/power-plant', name='power-plant', size=0, modificationTime=0),\n",
       " FileInfo(path='/databricks-datasets/retail-org', name='retail-org', size=0, modificationTime=0),\n",
       " FileInfo(path='/databricks-datasets/rwe', name='rwe', size=0, modificationTime=0),\n",
       " FileInfo(path='/databricks-datasets/sai-summit-2019-sf', name='sai-summit-2019-sf', size=0, modificationTime=0),\n",
       " FileInfo(path='/databricks-datasets/sample_logs', name='sample_logs', size=0, modificationTime=0),\n",
       " FileInfo(path='/databricks-datasets/samples', name='samples', size=0, modificationTime=0),\n",
       " FileInfo(path='/databricks-datasets/sfo_customer_survey', name='sfo_customer_survey', size=0, modificationTime=0),\n",
       " FileInfo(path='/databricks-datasets/sms_spam_collection', name='sms_spam_collection', size=0, modificationTime=0),\n",
       " FileInfo(path='/databricks-datasets/songs', name='songs', size=0, modificationTime=0),\n",
       " FileInfo(path='/databricks-datasets/structured-streaming', name='structured-streaming', size=0, modificationTime=0),\n",
       " FileInfo(path='/databricks-datasets/timeseries', name='timeseries', size=0, modificationTime=0),\n",
       " FileInfo(path='/databricks-datasets/tpch', name='tpch', size=0, modificationTime=0),\n",
       " FileInfo(path='/databricks-datasets/travel_recommendations_realtime', name='travel_recommendations_realtime', size=0, modificationTime=0),\n",
       " FileInfo(path='/databricks-datasets/warmup', name='warmup', size=0, modificationTime=0),\n",
       " FileInfo(path='/databricks-datasets/weather', name='weather', size=0, modificationTime=0),\n",
       " FileInfo(path='/databricks-datasets/wiki', name='wiki', size=0, modificationTime=0),\n",
       " FileInfo(path='/databricks-datasets/wikipedia-datasets', name='wikipedia-datasets', size=0, modificationTime=0),\n",
       " FileInfo(path='/databricks-datasets/wine-quality', name='wine-quality', size=0, modificationTime=0)]"
      ]
     },
     "execution_count": 7,
     "metadata": {},
     "output_type": "execute_result"
    }
   ],
   "source": [
    "dbutils.fs.ls(\"/databricks-datasets\")"
   ]
  }
 ],
 "metadata": {
  "kernelspec": {
   "display_name": ".conda",
   "language": "python",
   "name": "python3"
  },
  "language_info": {
   "codemirror_mode": {
    "name": "ipython",
    "version": 3
   },
   "file_extension": ".py",
   "mimetype": "text/x-python",
   "name": "python",
   "nbconvert_exporter": "python",
   "pygments_lexer": "ipython3",
   "version": "3.12.11"
  }
 },
 "nbformat": 4,
 "nbformat_minor": 5
}
